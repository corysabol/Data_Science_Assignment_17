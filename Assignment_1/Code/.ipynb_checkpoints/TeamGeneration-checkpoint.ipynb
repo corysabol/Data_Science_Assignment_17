{
 "cells": [
  {
   "cell_type": "markdown",
   "metadata": {},
   "source": [
    "# Team Generator\n",
    "### Cory Sabol - CSC 495 Data Science\n",
    "---\n",
    "Generate n random teams of students from the students.tsv file. Make use of list comprehensions and slicing.\n",
    "\n",
    "#### Some self imposed stipulations\n",
    "1. I did not want to exceed a line length of 120 characters.\n",
    "2. I did not want to use the random lib (hello extra credit?)\n",
    "3. I wanted my code to be as unreadable as possible (job security :D)\n",
    "\n",
    "Below is a solution which does not utilize the random library. Instead it produces a deterministic combination of the list of students, giving the appearance of randomization. This acheived by utilizing $n$ as a 'seed'. The first student is selected by calculating the index $i$ as follows; \n",
    "\n",
    "$$i \\gets \\lfloor Hash\\_id \\div n\\rfloor \\bmod \\lvert s\\rvert$$\n",
    "\n",
    "where $s$ is the list of students from \"students.tsv\". Using this as an index inside of a list comprehension results in on average half of the list of students being popped from the original list. The resulting \"halves\" are then concatenated to produce the \"randomized\" list of students. The list, $o$ is then partitioned into $n$ partitions of size $\\lvert o \\rvert \\div n$. If the number of students is odd, then the described operations may result in a team of 1 student which is then appended to the first partiton.\n",
    "\n",
    "And in case you were wondering, yeah that's a lambda funtion. It's there solely to allow me to put the `p(o)` statement onto  the same line as the conditional logic. Reducing line count by one more. Sure, I could have made one long line, but I did not wish to exceed the width of the text editor."
   ]
  },
  {
   "cell_type": "code",
   "execution_count": 6,
   "metadata": {},
   "outputs": [
    {
     "name": "stdout",
     "output_type": "stream",
     "text": [
      "[[['Daniel Cregan', '3786224687706880304'], ['Amir Sadiev', '-4723620785124466034'], ['Trevor White', '-3964196204618906805']], [['Nathaniel Arnold', '-6208984909235991004'], ['Geoffrey Blech', '-2326570791530317167']], [['Nickolas Lloyd', '3124309669102165666'], ['Michael Burke', '-3838182749985528967']], [['Melvin Watlington', '8727671452098101649'], ['Rishi Khanna', '-5010420437561864278']], [['Kevin McLoughlin', '-2685934458375638973'], ['Travis Cox', '6748876003472420179']], [['Ahlam Hakami', '8236971849459693902'], ['Aaron Denton', '4913512530868538697']], [['Jacob Durham', '2586087839760023130'], ['Basheer Eljabaly', '-6517500637979821548']], [['Alexander Hahn', '-6210597270727280069'], ['Jonathan Mills', '-7654356918274025332']], [['Joshua Moore', '-3924975747173341458'], ['Ashley Overman', '260802984044394514']], [['Cory Sabol', '4774928196321483336'], ['Patricia Tanzer', '-7775633915447219188']]]\n"
     ]
    },
    {
     "data": {
      "text/plain": [
       "[[['Daniel Cregan', '3786224687706880304'],\n",
       "  ['Amir Sadiev', '-4723620785124466034'],\n",
       "  ['Trevor White', '-3964196204618906805']],\n",
       " [['Nathaniel Arnold', '-6208984909235991004'],\n",
       "  ['Geoffrey Blech', '-2326570791530317167']],\n",
       " [['Nickolas Lloyd', '3124309669102165666'],\n",
       "  ['Michael Burke', '-3838182749985528967']],\n",
       " [['Melvin Watlington', '8727671452098101649'],\n",
       "  ['Rishi Khanna', '-5010420437561864278']],\n",
       " [['Kevin McLoughlin', '-2685934458375638973'],\n",
       "  ['Travis Cox', '6748876003472420179']],\n",
       " [['Ahlam Hakami', '8236971849459693902'],\n",
       "  ['Aaron Denton', '4913512530868538697']],\n",
       " [['Jacob Durham', '2586087839760023130'],\n",
       "  ['Basheer Eljabaly', '-6517500637979821548']],\n",
       " [['Alexander Hahn', '-6210597270727280069'],\n",
       "  ['Jonathan Mills', '-7654356918274025332']],\n",
       " [['Joshua Moore', '-3924975747173341458'],\n",
       "  ['Ashley Overman', '260802984044394514']],\n",
       " [['Cory Sabol', '4774928196321483336'],\n",
       "  ['Patricia Tanzer', '-7775633915447219188']]]"
      ]
     },
     "execution_count": 6,
     "metadata": {},
     "output_type": "execute_result"
    }
   ],
   "source": [
    "import csv;n=9;i=int;c=csv.reader;r=range;l=len;t=list;p=print;z='../data/students.tsv'\n",
    "with open(z) as f:s=t(c(f,delimiter='\\t'));s=s[1:];o=[s.pop(i(i(x[1])/n)%l(s))for x in s];o=o+s;m=[o[x:x+i(l(o)/n)]\\\n",
    "for x in r(0,l(o),i(l(o)/n))];y=lambda:m[0].append(m.pop(l(m)-1).pop(0))if l(m)%2!=0and l(m)%3!=0else 0;y();p(m)\n",
    "    \n",
    "\n",
    "# display it nicely for testing purposes, not a part of line count(?)    \n",
    "m"
   ]
  },
  {
   "cell_type": "markdown",
   "metadata": {},
   "source": [
    "### Okay...\n",
    "Phew that sure is a pain to read... Below is the same solution but expanded and commented for explanation.\n",
    "\n",
    "---"
   ]
  },
  {
   "cell_type": "code",
   "execution_count": 5,
   "metadata": {},
   "outputs": [
    {
     "name": "stdout",
     "output_type": "stream",
     "text": [
      "[[['Daniel Cregan', '3786224687706880304'], ['Amir Sadiev', '-4723620785124466034'], ['Trevor White', '-3964196204618906805']], [['Nathaniel Arnold', '-6208984909235991004'], ['Geoffrey Blech', '-2326570791530317167']], [['Nickolas Lloyd', '3124309669102165666'], ['Michael Burke', '-3838182749985528967']], [['Melvin Watlington', '8727671452098101649'], ['Rishi Khanna', '-5010420437561864278']], [['Kevin McLoughlin', '-2685934458375638973'], ['Travis Cox', '6748876003472420179']], [['Ahlam Hakami', '8236971849459693902'], ['Aaron Denton', '4913512530868538697']], [['Jacob Durham', '2586087839760023130'], ['Basheer Eljabaly', '-6517500637979821548']], [['Alexander Hahn', '-6210597270727280069'], ['Jonathan Mills', '-7654356918274025332']], [['Joshua Moore', '-3924975747173341458'], ['Ashley Overman', '260802984044394514']], [['Cory Sabol', '4774928196321483336'], ['Patricia Tanzer', '-7775633915447219188']]]\n"
     ]
    }
   ],
   "source": [
    "import csv;\n",
    "n=9\n",
    "# Alias everything...\n",
    "i=int\n",
    "c=csv.reader\n",
    "r=range\n",
    "l=len\n",
    "t=list\n",
    "p=print\n",
    "z='../data/students.tsv'\n",
    "\n",
    "# open the dataset\n",
    "with open(z) as f:\n",
    "    # read it into a list\n",
    "    s=t(c(f,delimiter='\\t'))\n",
    "# remove the header    \n",
    "s=s[1:]\n",
    "# use n and the hash to select approximately half the elements and pop them into a new list.\n",
    "o=[s.pop(i(i(x[1])/n)%l(s))for x in s]\n",
    "# concatentate the two halves together producing a \"random\" distribution.\n",
    "o=o+s\n",
    "# generate the teams by partitioning into n partitions of len/n size (some may be left over)\n",
    "m=[o[x:x+i(l(o)/n)]for x in r(0,l(o),i(l(o)/n))]\n",
    "# Use a lambda so that I can put a print call on the same line as the if logic...\n",
    "# the if structure handles any left over students, by adding them to the first team.\n",
    "y=lambda:m[0].append(m.pop(l(m)-1).pop(0))if l(m)%2!=0and l(m)%3!=0else 0\n",
    "# call the (named) lambda.\n",
    "y()\n",
    "# print the teams.\n",
    "p(m)"
   ]
  }
 ],
 "metadata": {
  "kernelspec": {
   "display_name": "Python 3",
   "language": "python",
   "name": "python3"
  },
  "language_info": {
   "codemirror_mode": {
    "name": "ipython",
    "version": 3
   },
   "file_extension": ".py",
   "mimetype": "text/x-python",
   "name": "python",
   "nbconvert_exporter": "python",
   "pygments_lexer": "ipython3",
   "version": "3.6.1"
  }
 },
 "nbformat": 4,
 "nbformat_minor": 2
}
