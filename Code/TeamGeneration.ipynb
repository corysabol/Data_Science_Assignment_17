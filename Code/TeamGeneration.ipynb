{
 "cells": [
  {
   "cell_type": "markdown",
   "metadata": {},
   "source": [
    "# Team Generator\n",
    "---"
   ]
  },
  {
   "cell_type": "code",
   "execution_count": 165,
   "metadata": {},
   "outputs": [
    {
     "name": "stdout",
     "output_type": "stream",
     "text": [
      "[[['Patricia Tanzer', '-7775633915447219188'], ['Nathaniel Arnold', '-6208984909235991004'], ['Daniel Cregan', '3786224687706880304'], ['Jacob Durham', '2586087839760023130'], ['Jonathan Mills', '-7654356918274025332'], ['Michael Burke', '-3838182749985528967']], [['Trevor White', '-3964196204618906805'], ['Basheer Eljabaly', '-6517500637979821548'], ['Amir Sadiev', '-4723620785124466034'], ['Aaron Denton', '4913512530868538697'], ['Ashley Overman', '260802984044394514'], ['Rishi Khanna', '-5010420437561864278']], [['Ahlam Hakami', '8236971849459693902'], ['Cory Sabol', '4774928196321483336'], ['Joshua Moore', '-3924975747173341458'], ['Travis Cox', '6748876003472420179'], ['Geoffrey Blech', '-2326570791530317167'], ['Nickolas Lloyd', '3124309669102165666']], [['Alexander Hahn', '-6210597270727280069'], ['Kevin McLoughlin', '-2685934458375638973'], ['Melvin Watlington', '8727671452098101649']]]\n"
     ]
    }
   ],
   "source": [
    "'''\n",
    "import csv\n",
    "import random\n",
    "# need to partition a list with python\n",
    "with open('../data/students.tsv') as f:\n",
    "    n = 6\n",
    "    s = list(csv.reader(f,delimiter='\\t'));s.remove(s[0]);random.shuffle(s)\n",
    "    l = [s[x:x+n] for x in range(0, len(s), n)]\n",
    "'''\n",
    "# write it in one line\n",
    "with open('../data/students.tsv') as f:n=6;s=list(csv.reader(f,delimiter='\\t'));s=s[1:];random.shuffle(s);l=[s[x:x+n] for x in range(0,len(s),n)];print(l)"
   ]
  }
 ],
 "metadata": {
  "kernelspec": {
   "display_name": "Python 3",
   "language": "python",
   "name": "python3"
  },
  "language_info": {
   "codemirror_mode": {
    "name": "ipython",
    "version": 3
   },
   "file_extension": ".py",
   "mimetype": "text/x-python",
   "name": "python",
   "nbconvert_exporter": "python",
   "pygments_lexer": "ipython3",
   "version": "3.6.1"
  }
 },
 "nbformat": 4,
 "nbformat_minor": 2
}
