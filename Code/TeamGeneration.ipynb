{
 "cells": [
  {
   "cell_type": "markdown",
   "metadata": {},
   "source": [
    "# Team Generator\n",
    "---\n",
    "Generate n random teams of students from the students.tsv file. Make use of list comprehensions and slicing.\n",
    "\n",
    "Below is the solution, commented out, in a more readable format. Below that is the solution on one line.\n",
    "Although it's more than one statement, so perhaps it doesn't count? Also, to get it on one line I had to import inside of \n",
    "the `with` block because python complains otherwise. For that matter am I allowed to import random?"
   ]
  },
  {
   "cell_type": "code",
   "execution_count": 260,
   "metadata": {},
   "outputs": [
    {
     "name": "stdout",
     "output_type": "stream",
     "text": [
      "[[['Basheer Eljabaly', '-6517500637979821548'], ['Daniel Cregan', '3786224687706880304'], ['Alexander Hahn', '-6210597270727280069'], ['Amir Sadiev', '-4723620785124466034']], [['Melvin Watlington', '8727671452098101649'], ['Ahlam Hakami', '8236971849459693902'], ['Nathaniel Arnold', '-6208984909235991004']], [['Kevin McLoughlin', '-2685934458375638973'], ['Travis Cox', '6748876003472420179'], ['Ashley Overman', '260802984044394514']], [['Geoffrey Blech', '-2326570791530317167'], ['Joshua Moore', '-3924975747173341458'], ['Michael Burke', '-3838182749985528967']], [['Aaron Denton', '4913512530868538697'], ['Jacob Durham', '2586087839760023130'], ['Rishi Khanna', '-5010420437561864278']], [['Nickolas Lloyd', '3124309669102165666'], ['Jonathan Mills', '-7654356918274025332'], ['Cory Sabol', '4774928196321483336']]]\n"
     ]
    },
    {
     "data": {
      "text/plain": [
       "[[['Basheer Eljabaly', '-6517500637979821548'],\n",
       "  ['Daniel Cregan', '3786224687706880304'],\n",
       "  ['Alexander Hahn', '-6210597270727280069'],\n",
       "  ['Amir Sadiev', '-4723620785124466034']],\n",
       " [['Melvin Watlington', '8727671452098101649'],\n",
       "  ['Ahlam Hakami', '8236971849459693902'],\n",
       "  ['Nathaniel Arnold', '-6208984909235991004']],\n",
       " [['Kevin McLoughlin', '-2685934458375638973'],\n",
       "  ['Travis Cox', '6748876003472420179'],\n",
       "  ['Ashley Overman', '260802984044394514']],\n",
       " [['Geoffrey Blech', '-2326570791530317167'],\n",
       "  ['Joshua Moore', '-3924975747173341458'],\n",
       "  ['Michael Burke', '-3838182749985528967']],\n",
       " [['Aaron Denton', '4913512530868538697'],\n",
       "  ['Jacob Durham', '2586087839760023130'],\n",
       "  ['Rishi Khanna', '-5010420437561864278']],\n",
       " [['Nickolas Lloyd', '3124309669102165666'],\n",
       "  ['Jonathan Mills', '-7654356918274025332'],\n",
       "  ['Cory Sabol', '4774928196321483336']]]"
      ]
     },
     "execution_count": 260,
     "metadata": {},
     "output_type": "execute_result"
    }
   ],
   "source": [
    "# import csv;i=int;\n",
    "# with open('../data/students.tsv') as f:\n",
    "#     n=100;s=list(csv.reader(f,delimiter='\\t'));s=s[1:]\n",
    "#     l=[s.pop(i(i(x[1])/n)%len(s)) for x in s];l=l+s\n",
    "#     m=[l[x:x+i(len(l)/n)] for x in range(0,len(l),int(len(l)/n))]\n",
    "#     if len(m)%2!=0: m[0].append(m.pop(len(m)-1).pop(0))\n",
    "    \n",
    "# m\n",
    "\n",
    "import csv;n=6;i=int;c=csv.reader;r=range;l=len;t=list\n",
    "with open('../data/students.tsv') as f:\n",
    "    s=t(c(f,delimiter='\\t'));s=s[1:]\n",
    "    o=[s.pop(i(i(x[1])/n)%len(s)) for x in s];o=o+s\n",
    "    m=[o[x:x+i(l(o)/n)] for x in r(0,l(o),i(l(o)/n))]\n",
    "    if l(m)%2!=0: m[0].append(m.pop(l(m)-1).pop(0));\n",
    "    print(m)\n",
    "    \n",
    "m"
   ]
  }
 ],
 "metadata": {
  "kernelspec": {
   "display_name": "Python 3",
   "language": "python",
   "name": "python3"
  },
  "language_info": {
   "codemirror_mode": {
    "name": "ipython",
    "version": 3
   },
   "file_extension": ".py",
   "mimetype": "text/x-python",
   "name": "python",
   "nbconvert_exporter": "python",
   "pygments_lexer": "ipython3",
   "version": "3.6.1"
  }
 },
 "nbformat": 4,
 "nbformat_minor": 2
}
