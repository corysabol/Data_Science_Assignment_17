{
 "cells": [
  {
   "cell_type": "markdown",
   "metadata": {},
   "source": [
    "# Team Generator\n",
    "---\n",
    "Generate n random teams of students from the students.tsv file. Make use of list comprehensions and slicing.\n",
    "\n",
    "Below is the solution, commented out, in a more readable format. Below that is the solution on one line.\n",
    "Although it's more than one statement, so perhaps it doesn't count? Also, to get it on one line I had to import inside of \n",
    "the `with` block because python complains otherwise. For that matter am I allowed to import random?"
   ]
  },
  {
   "cell_type": "code",
   "execution_count": 3,
   "metadata": {},
   "outputs": [
    {
     "name": "stdout",
     "output_type": "stream",
     "text": [
      "11\n"
     ]
    },
    {
     "data": {
      "text/plain": [
       "[[['Nathaniel Arnold', '-6208984909235991004'],\n",
       "  ['Geoffrey Blech', '-2326570791530317167']],\n",
       " [['Michael Burke', '-3838182749985528967'],\n",
       "  ['Travis Cox', '6748876003472420179']],\n",
       " [['Daniel Cregan', '3786224687706880304'],\n",
       "  ['Aaron Denton', '4913512530868538697']],\n",
       " [['Jacob Durham', '2586087839760023130'],\n",
       "  ['Basheer Eljabaly', '-6517500637979821548']],\n",
       " [['Alexander Hahn', '-6210597270727280069'],\n",
       "  ['Ahlam Hakami', '8236971849459693902']],\n",
       " [['Rishi Khanna', '-5010420437561864278'],\n",
       "  ['Nickolas Lloyd', '3124309669102165666']],\n",
       " [['Kevin McLoughlin', '-2685934458375638973'],\n",
       "  ['Jonathan Mills', '-7654356918274025332']],\n",
       " [['Joshua Moore', '-3924975747173341458'],\n",
       "  ['Ashley Overman', '260802984044394514']],\n",
       " [['Cory Sabol', '4774928196321483336'],\n",
       "  ['Amir Sadiev', '-4723620785124466034']],\n",
       " [['Patricia Tanzer', '-7775633915447219188'],\n",
       "  ['Melvin Watlington', '8727671452098101649']],\n",
       " [['Trevor White', '-3964196204618906805']]]"
      ]
     },
     "execution_count": 3,
     "metadata": {},
     "output_type": "execute_result"
    }
   ],
   "source": [
    "import csv\n",
    "with open('../data/students.tsv') as f:\n",
    "    n=10;s=list(csv.reader(f,delimiter='\\t'));s=s[1:];\n",
    "    l=[s[int((int(x[1])/n))%len(s)] for x in s]\n",
    "    l=[s[x:x+int(len(s)/n)] for x in range(0,len(s),int(len(s)/n))]\n",
    "print(len(l))\n",
    "l\n",
    "\n",
    "import csv;n=10;i=int\n",
    "with open('../data/students.tsv')as f:s=list(csv.reader(f,delimiter='\\t'));s=s[1:];l=[s[i(i(x[1])/n)]]"
   ]
  }
 ],
 "metadata": {
  "kernelspec": {
   "display_name": "Python 3",
   "language": "python",
   "name": "python3"
  },
  "language_info": {
   "codemirror_mode": {
    "name": "ipython",
    "version": 3
   },
   "file_extension": ".py",
   "mimetype": "text/x-python",
   "name": "python",
   "nbconvert_exporter": "python",
   "pygments_lexer": "ipython3",
   "version": "3.6.1"
  }
 },
 "nbformat": 4,
 "nbformat_minor": 2
}
